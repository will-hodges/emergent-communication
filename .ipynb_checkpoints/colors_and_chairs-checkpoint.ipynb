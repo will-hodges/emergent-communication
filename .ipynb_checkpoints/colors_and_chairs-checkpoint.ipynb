{
 "cells": [
  {
   "cell_type": "code",
   "execution_count": 25,
   "metadata": {},
   "outputs": [],
   "source": [
    "import os\n",
    "import sys\n",
    "import copy\n",
    "import json\n",
    "import torch\n",
    "import pickle\n",
    "#import dotmap\n",
    "import random\n",
    "import logging\n",
    "import numpy as np\n",
    "from tqdm import tqdm\n",
    "#from dotmap import DotMap\n",
    "from itertools import chain\n",
    "import torch.nn.functional as F\n",
    "from torchvision import transforms\n",
    "from torch.utils.data import DataLoader\n",
    "from torch.optim.lr_scheduler import ReduceLROnPlateau\n",
    "\n",
    "from chairs import ChairsInContext\n",
    "from colors import ColorsInContext\n",
    "from colorgrids import ColorgridsInContext"
   ]
  },
  {
   "cell_type": "code",
   "execution_count": 26,
   "metadata": {},
   "outputs": [],
   "source": [
    "dataset = 'colors'\n",
    "data_dir = './'\n",
    "data_size = None\n",
    "image_size = 64\n",
    "override_vocab = None\n",
    "context_condition = 'all'\n",
    "split_mode = 'easy'"
   ]
  },
  {
   "cell_type": "code",
   "execution_count": 27,
   "metadata": {},
   "outputs": [
    {
     "name": "stderr",
     "output_type": "stream",
     "text": [
      "\n",
      "  0%|          | 0/2317 [00:00<?, ?it/s]\u001b[A\n",
      " 49%|████▊     | 1127/2317 [00:00<00:00, 11267.30it/s]\u001b[A"
     ]
    },
    {
     "name": "stdout",
     "output_type": "stream",
     "text": [
      "1\n",
      "2\n",
      "Loading cleaned data from pickle.\n",
      "val\n",
      "46321\n",
      "44004\n",
      "46321\n",
      "Building vocabulary\n"
     ]
    },
    {
     "name": "stderr",
     "output_type": "stream",
     "text": [
      "\n",
      "100%|██████████| 2317/2317 [00:00<00:00, 10940.09it/s]\u001b[A\n"
     ]
    }
   ],
   "source": [
    "if dataset == 'chairs':\n",
    "    DatasetClass = ChairsInContext\n",
    "elif dataset == 'colors':\n",
    "    DatasetClass = ColorsInContext\n",
    "else:\n",
    "    DatasetClass = ColorgridsInContext\n",
    "data = DatasetClass('./'+str(dataset), image_size = 64, vocab = None, split = 'val', context_condition = 'all', train_frac = .95, val_frac = .05, image_transform = None)\n"
   ]
  },
  {
   "cell_type": "code",
   "execution_count": 24,
   "metadata": {},
   "outputs": [],
   "source": [
    "all_imgs = None\n",
    "all_labels = None\n",
    "langs = None\n",
    "count = 0\n",
    "for i, (img, y, lang) in enumerate(data):\n",
    "    label = [0, 0, 0]\n",
    "    label[y] = 1\n",
    "    if all_imgs is None:\n",
    "        all_imgs = np.array([img.numpy()])\n",
    "        all_labels = np.array([label])\n",
    "        langs = np.array([lang.numpy()])\n",
    "    else:\n",
    "        all_imgs = np.append(all_imgs,np.array([img.numpy()]),0)\n",
    "        all_labels = np.append(all_labels,np.array([label]),0)\n",
    "        langs = np.append(langs,np.array([lang.numpy()]),0)\n",
    "    print(lang)\n",
    "    \"\"\"\n",
    "    if (i+1)%1000 == 0:\n",
    "        print(langs)\n",
    "        data_dict = {'imgs': all_imgs, 'labels': all_labels, 'langs': langs}\n",
    "        np.savez_compressed('./data/'+str(dataset)+'/data_1000_'+str(count)+'.npz', **data_dict)\n",
    "        count += 1\n",
    "        all_imgs = None\n",
    "        all_labels = None\n",
    "        langs = None\"\"\"\n",
    "#data_dict = {'imgs': all_imgs, 'labels': all_labels, 'langs': langs}\n",
    "#np.savez_compressed('./data/'+str(dataset)+'/data_all.npz', **data_dict)"
   ]
  },
  {
   "cell_type": "code",
   "execution_count": null,
   "metadata": {},
   "outputs": [],
   "source": []
  }
 ],
 "metadata": {
  "kernelspec": {
   "display_name": "Python 3",
   "language": "python",
   "name": "python3"
  },
  "language_info": {
   "codemirror_mode": {
    "name": "ipython",
    "version": 3
   },
   "file_extension": ".py",
   "mimetype": "text/x-python",
   "name": "python",
   "nbconvert_exporter": "python",
   "pygments_lexer": "ipython3",
   "version": "3.6.9"
  }
 },
 "nbformat": 4,
 "nbformat_minor": 2
}
